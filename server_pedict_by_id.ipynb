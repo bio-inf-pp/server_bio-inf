{
  "nbformat": 4,
  "nbformat_minor": 0,
  "metadata": {
    "colab": {
      "provenance": []
    },
    "kernelspec": {
      "name": "python3",
      "display_name": "Python 3"
    },
    "language_info": {
      "name": "python"
    }
  },
  "cells": [
    {
      "cell_type": "code",
      "source": [
        "import pandas as pd\n",
        "import numpy as np\n",
        "\n",
        "# =======================================\n",
        "# 1. Загрузка данных\n",
        "# =======================================\n",
        "print(\"\\n1. Загрузка данных\")\n",
        "df_raw = pd.read_csv('gen_info.csv', header=0, index_col=0)\n",
        "df = df_raw.T\n",
        "\n",
        "# =======================================\n",
        "# 2. Удаление колонки reccurence\n",
        "# =======================================\n",
        "print(\"\\n2. Удаление колонки reccurence\")\n",
        "if 'reccurence' in df.columns:\n",
        "    df.drop(columns=\"reccurence\", inplace=True)\n",
        "\n",
        "# =======================================\n",
        "# 3. Преобразование в long format (для базы данных)\n",
        "# =======================================\n",
        "print(\"\\n3. Преобразование в long format (для базы данных)\")\n",
        "db_df = df.stack().reset_index()\n",
        "db_df.columns = ['TCGA_ID', 'Ensembl_ID', 'Gene_Value']\n",
        "\n",
        "# =======================================\n",
        "# 4. Фильтрация ненулевых значений\n",
        "# =======================================\n",
        "print(\"\\n4. Фильтрация ненулевых значений\")\n",
        "db_df = db_df[db_df['Gene_Value'] != 0]\n",
        "\n",
        "# =======================================\n",
        "# 5. Сохранение базы данных\n",
        "# =======================================\n",
        "print(\"\\n5. Сохранение базы данных\")\n",
        "db_df.to_csv('tcga_ensembl_db.csv', index=False)\n",
        "print(\"Файл tcga_ensembl_db.csv создан!\")\n"
      ],
      "metadata": {
        "id": "-X7OwMrhhTJ4"
      },
      "execution_count": null,
      "outputs": []
    },
    {
      "cell_type": "code",
      "source": [
        "import pandas as pd\n",
        "from sklearn.preprocessing import LabelEncoder, PowerTransformer\n",
        "from sklearn.feature_selection import SelectKBest, mutual_info_classif\n",
        "\n",
        "# =======================================\n",
        "# 1. Загрузка и подготовка данных\n",
        "# =======================================\n",
        "print(\"\\n1. Загрузка и подготовка данных\")\n",
        "model_df = df_raw.T\n",
        "x = model_df[1:].drop(columns='reccurence')\n",
        "y = model_df[1:]['reccurence']\n",
        "\n",
        "# =======================================\n",
        "# 2. Удаление полностью нулевых столбцов\n",
        "# =======================================\n",
        "print(\"\\n2. Удаление полностью нулевых столбцов\")\n",
        "non_zero_columns_mask = (x != 0).any(axis=0)\n",
        "x_filtered = x.loc[:, non_zero_columns_mask]\n",
        "counter = x.shape[1] - x_filtered.shape[1]\n",
        "x = x_filtered\n",
        "print(f\"Удалено столбцов: {counter}\")\n",
        "\n",
        "# =======================================\n",
        "# 3. Нормализация данных\n",
        "# =======================================\n",
        "print(\"\\n3. Нормализация данных\")\n",
        "transformer = PowerTransformer(method='yeo-johnson')\n",
        "x_normalized = transformer.fit_transform(x)\n",
        "x_norm = pd.DataFrame(data=x_normalized, columns=x.columns)\n",
        "\n",
        "# =======================================\n",
        "# 4. Отбор признаков\n",
        "# =======================================\n",
        "print(\"\\n4. Отбор признаков\")\n",
        "k_best = SelectKBest(score_func=mutual_info_classif, k=764)\n",
        "x_new = k_best.fit_transform(x_norm, y)\n",
        "selected_features = x_norm.columns[k_best.get_support()]\n",
        "print(\"Отобранные признаки:\", selected_features)\n",
        "kb_features = pd.DataFrame(selected_features)\n",
        "\n",
        "# =======================================\n",
        "# 5. Создание итогового DataFrame\n",
        "# =======================================\n",
        "print(\"\\n5. Создание итогового DataFrame\")\n",
        "kb_df = pd.DataFrame(\n",
        "    data=x_new,\n",
        "    columns=[f'KB-{i}' for i in range(1, kb_features.size + 1)]\n",
        ")\n",
        "kb_df['KB-Y'] = LabelEncoder().fit_transform(y)\n",
        "kb_df['TCGA_ID'] = df.index[1:]\n",
        "print(kb_df.head())\n",
        "\n",
        "# =======================================\n",
        "# 6. Сохранение результата\n",
        "# =======================================\n",
        "print(\"\\n6. Сохранение результата\")\n",
        "kb_df.to_csv('kb_df_with_tcga_id.csv', index=False)\n",
        "print(\"Файл kb_df_with_tcga_id.csv создан!\")"
      ],
      "metadata": {
        "id": "WvxWE5okhrGu"
      },
      "execution_count": null,
      "outputs": []
    },
    {
      "cell_type": "code",
      "source": [
        "!pip install fastapi uvicorn[standard] nest-asyncio pyngrok scikit-learn joblib\n",
        "!pip install python-multipart"
      ],
      "metadata": {
        "colab": {
          "base_uri": "https://localhost:8080/"
        },
        "id": "OpF5-O7PRj7B",
        "outputId": "32497830-afac-4744-e0fd-367911420fc6"
      },
      "execution_count": 16,
      "outputs": [
        {
          "output_type": "stream",
          "name": "stdout",
          "text": [
            "Requirement already satisfied: fastapi in /usr/local/lib/python3.11/dist-packages (0.115.12)\n",
            "Requirement already satisfied: nest-asyncio in /usr/local/lib/python3.11/dist-packages (1.6.0)\n",
            "Requirement already satisfied: pyngrok in /usr/local/lib/python3.11/dist-packages (7.2.8)\n",
            "Requirement already satisfied: scikit-learn in /usr/local/lib/python3.11/dist-packages (1.6.1)\n",
            "Requirement already satisfied: joblib in /usr/local/lib/python3.11/dist-packages (1.5.0)\n",
            "Requirement already satisfied: uvicorn[standard] in /usr/local/lib/python3.11/dist-packages (0.34.2)\n",
            "Requirement already satisfied: starlette<0.47.0,>=0.40.0 in /usr/local/lib/python3.11/dist-packages (from fastapi) (0.46.2)\n",
            "Requirement already satisfied: pydantic!=1.8,!=1.8.1,!=2.0.0,!=2.0.1,!=2.1.0,<3.0.0,>=1.7.4 in /usr/local/lib/python3.11/dist-packages (from fastapi) (2.11.4)\n",
            "Requirement already satisfied: typing-extensions>=4.8.0 in /usr/local/lib/python3.11/dist-packages (from fastapi) (4.13.2)\n",
            "Requirement already satisfied: click>=7.0 in /usr/local/lib/python3.11/dist-packages (from uvicorn[standard]) (8.2.0)\n",
            "Requirement already satisfied: h11>=0.8 in /usr/local/lib/python3.11/dist-packages (from uvicorn[standard]) (0.16.0)\n",
            "Requirement already satisfied: httptools>=0.6.3 in /usr/local/lib/python3.11/dist-packages (from uvicorn[standard]) (0.6.4)\n",
            "Requirement already satisfied: python-dotenv>=0.13 in /usr/local/lib/python3.11/dist-packages (from uvicorn[standard]) (1.1.0)\n",
            "Requirement already satisfied: pyyaml>=5.1 in /usr/local/lib/python3.11/dist-packages (from uvicorn[standard]) (6.0.2)\n",
            "Requirement already satisfied: uvloop!=0.15.0,!=0.15.1,>=0.14.0 in /usr/local/lib/python3.11/dist-packages (from uvicorn[standard]) (0.21.0)\n",
            "Requirement already satisfied: watchfiles>=0.13 in /usr/local/lib/python3.11/dist-packages (from uvicorn[standard]) (1.0.5)\n",
            "Requirement already satisfied: websockets>=10.4 in /usr/local/lib/python3.11/dist-packages (from uvicorn[standard]) (15.0.1)\n",
            "Requirement already satisfied: numpy>=1.19.5 in /usr/local/lib/python3.11/dist-packages (from scikit-learn) (2.0.2)\n",
            "Requirement already satisfied: scipy>=1.6.0 in /usr/local/lib/python3.11/dist-packages (from scikit-learn) (1.15.3)\n",
            "Requirement already satisfied: threadpoolctl>=3.1.0 in /usr/local/lib/python3.11/dist-packages (from scikit-learn) (3.6.0)\n",
            "Requirement already satisfied: annotated-types>=0.6.0 in /usr/local/lib/python3.11/dist-packages (from pydantic!=1.8,!=1.8.1,!=2.0.0,!=2.0.1,!=2.1.0,<3.0.0,>=1.7.4->fastapi) (0.7.0)\n",
            "Requirement already satisfied: pydantic-core==2.33.2 in /usr/local/lib/python3.11/dist-packages (from pydantic!=1.8,!=1.8.1,!=2.0.0,!=2.0.1,!=2.1.0,<3.0.0,>=1.7.4->fastapi) (2.33.2)\n",
            "Requirement already satisfied: typing-inspection>=0.4.0 in /usr/local/lib/python3.11/dist-packages (from pydantic!=1.8,!=1.8.1,!=2.0.0,!=2.0.1,!=2.1.0,<3.0.0,>=1.7.4->fastapi) (0.4.0)\n",
            "Requirement already satisfied: anyio<5,>=3.6.2 in /usr/local/lib/python3.11/dist-packages (from starlette<0.47.0,>=0.40.0->fastapi) (4.9.0)\n",
            "Requirement already satisfied: idna>=2.8 in /usr/local/lib/python3.11/dist-packages (from anyio<5,>=3.6.2->starlette<0.47.0,>=0.40.0->fastapi) (3.10)\n",
            "Requirement already satisfied: sniffio>=1.1 in /usr/local/lib/python3.11/dist-packages (from anyio<5,>=3.6.2->starlette<0.47.0,>=0.40.0->fastapi) (1.3.1)\n",
            "Requirement already satisfied: python-multipart in /usr/local/lib/python3.11/dist-packages (0.0.20)\n"
          ]
        }
      ]
    },
    {
      "cell_type": "code",
      "source": [
        "import nest_asyncio\n",
        "from pyngrok import ngrok\n",
        "import joblib\n",
        "import numpy as np\n",
        "import pandas as pd\n",
        "from fastapi import FastAPI, HTTPException\n",
        "from fastapi.middleware.cors import CORSMiddleware\n",
        "from pydantic import BaseModel\n",
        "import uvicorn"
      ],
      "metadata": {
        "id": "l-owhZeNRmBY"
      },
      "execution_count": 38,
      "outputs": []
    },
    {
      "cell_type": "code",
      "execution_count": 45,
      "metadata": {
        "colab": {
          "base_uri": "https://localhost:8080/"
        },
        "id": "wdLe2x67QsMZ",
        "outputId": "d349558b-b3ed-4f0b-b03c-99878c57c52f"
      },
      "outputs": [
        {
          "output_type": "stream",
          "name": "stdout",
          "text": [
            "\n",
            "1. Настройка ngrok\n",
            "\n",
            "2. Инициализация FastAPI\n",
            "\n",
            "3. Загрузка модели и данных\n",
            "\n",
            "4. Pydantic-модель для запроса\n"
          ]
        }
      ],
      "source": [
        "# =======================================\n",
        "# 1. Настройка ngrok\n",
        "# =======================================\n",
        "print(\"\\n1. Настройка ngrok\")\n",
        "ngrok.set_auth_token(\"2wSJ5VaAqlgK9jjKEjqXJIzJjq0_iyrjVymxXRqBZi4Q7pjy\")\n",
        "\n",
        "# =======================================\n",
        "# 2. Инициализация FastAPI\n",
        "# =======================================\n",
        "print(\"\\n2. Инициализация FastAPI\")\n",
        "app = FastAPI(title=\"TCGA Gene Prediction API\")\n",
        "\n",
        "app.add_middleware(\n",
        "    CORSMiddleware,\n",
        "    allow_origins=[\"*\"],\n",
        "    allow_methods=[\"*\"],\n",
        "    allow_headers=[\"*\"],\n",
        ")\n",
        "\n",
        "# =======================================\n",
        "# 3. Загрузка модели и данных\n",
        "# =======================================\n",
        "print(\"\\n3. Загрузка модели и данных\")\n",
        "model = joblib.load(\"gb_model.joblib\")\n",
        "db_df = pd.read_csv('tcga_ensembl_db.csv')  # columns: TCGA_ID, Ensembl_ID, Gene_Value\n",
        "kb_df = pd.read_csv('kb_df_with_tcga_id.csv')  # columns: KB-1, ..., KB-764, KB-Y, TCGA_ID\n",
        "\n",
        "# =======================================\n",
        "# 4. Pydantic-модель для запроса\n",
        "# =======================================\n",
        "print(\"\\n4. Pydantic-модель для запроса\")\n",
        "class IDRequest(BaseModel):\n",
        "    \"\"\"Модель запроса для получения предсказания по TCGA_ID и Ensembl_ID.\"\"\"\n",
        "    tcga_id: str\n",
        "    ensembl_id: str"
      ]
    },
    {
      "cell_type": "code",
      "source": [
        "# =======================================\n",
        "# 5. Endpoint для предсказания\n",
        "# =======================================\n",
        "print(\"\\n5. Endpoint для предсказания\")\n",
        "@app.post(\"/predict_by_id\", summary=\"Получить предсказание по TCGA_ID и Ensembl_ID\")\n",
        "async def predict_by_id(request: IDRequest):\n",
        "    tcga_id = request.tcga_id\n",
        "    ensembl_id = request.ensembl_id\n",
        "\n",
        "    # 1. Значение гена\n",
        "    mask = (db_df['TCGA_ID'] == tcga_id) & (db_df['Ensembl_ID'] == ensembl_id)\n",
        "    if not mask.any():\n",
        "        raise HTTPException(404, detail=\"TCGA_ID и Ensembl_ID не найдены в базе\")\n",
        "    gene_value = float(db_df.loc[mask, 'Gene_Value'].values[0])\n",
        "\n",
        "    # 2. Вектор признаков\n",
        "    kb_row = kb_df[kb_df['TCGA_ID'] == tcga_id]\n",
        "    if kb_row.empty:\n",
        "        raise HTTPException(404, detail=\"TCGA_ID не найден в признаках\")\n",
        "    features = kb_row.iloc[0, :-2].values\n",
        "\n",
        "    if len(features) != 764:\n",
        "        raise HTTPException(500, detail=f\"Ожидается 764 признака, найдено {len(features)}\")\n",
        "\n",
        "    # 3. Предсказание\n",
        "    input_data = np.array(features).reshape(1, -1)\n",
        "    proba = float(model.predict_proba(input_data)[0, 1])\n",
        "    pred_label = int(model.predict(input_data)[0])\n",
        "\n",
        "    return {\n",
        "        \"tcga_id\": tcga_id,\n",
        "        \"ensembl_id\": ensembl_id,\n",
        "        \"gene_value\": gene_value,\n",
        "        \"features\": features.tolist(),\n",
        "        \"prediction\": proba,\n",
        "        \"predicted_label\": pred_label\n",
        "    }"
      ],
      "metadata": {
        "colab": {
          "base_uri": "https://localhost:8080/"
        },
        "id": "iX-Qix3kMYZ2",
        "outputId": "17b98638-5227-48c9-da91-611529c96ead"
      },
      "execution_count": 49,
      "outputs": [
        {
          "output_type": "stream",
          "name": "stdout",
          "text": [
            "\n",
            "5. Endpoint для предсказания\n"
          ]
        }
      ]
    },
    {
      "cell_type": "code",
      "source": [
        "from typing import List\n",
        "class FeaturesRequest(BaseModel):\n",
        "    features: List[float]\n",
        "\n",
        "@app.post(\"/predict\")\n",
        "async def predict(request: FeaturesRequest):\n",
        "    try:\n",
        "        print(f\"Received features (first 5): {request.features[:5]}\")\n",
        "        print(f\"Total features received: {len(request.features)}\")\n",
        "\n",
        "        if len(request.features) != 764:\n",
        "            error_msg = f\"Expected 764 features, got {len(request.features)}\"\n",
        "            print(error_msg)\n",
        "            raise HTTPException(status_code=400, detail=error_msg)\n",
        "\n",
        "        input_data = np.array(request.features, dtype=np.float32).reshape(1, -1)\n",
        "        print(f\"Input array shape: {input_data.shape}\")\n",
        "\n",
        "        proba = float(model.predict_proba(input_data)[0, 1])\n",
        "        pred_label = int(model.predict(input_data)[0])\n",
        "\n",
        "        return {\n",
        "            \"status\": \"success\",\n",
        "            \"prediction\": proba,\n",
        "            \"predicted_label\": pred_label,\n",
        "            \"features_received\": len(request.features)\n",
        "        }\n",
        "\n",
        "    except Exception as e:\n",
        "        print(f\"Error: {str(e)}\")\n",
        "        raise HTTPException(500, detail=str(e))\n"
      ],
      "metadata": {
        "id": "LBbjdkcRLmSA"
      },
      "execution_count": 50,
      "outputs": []
    },
    {
      "cell_type": "code",
      "source": [
        "class TCGARequest(BaseModel):\n",
        "    tcga_id: str\n",
        "\n",
        "@app.post(\"/predict_by_tcga\")\n",
        "async def predict_by_id(request: TCGARequest):\n",
        "    tcga_id = request.tcga_id\n",
        "\n",
        "    # 1. Получаем вектор признаков\n",
        "    kb_row = kb_df[kb_df['TCGA_ID'] == tcga_id]\n",
        "    if kb_row.empty:\n",
        "        raise HTTPException(404, detail=\"TCGA_ID не найден в признаках\")\n",
        "    features = kb_row.iloc[0, :-2].values  # все KB-1 ... KB-764, кроме KB-Y и TCGA_ID\n",
        "\n",
        "    if len(features) != 764:\n",
        "        raise HTTPException(500, detail=f\"Ожидается 764 признака, найдено {len(features)}\")\n",
        "\n",
        "    # 2. Предсказание\n",
        "    input_data = np.array(features).reshape(1, -1)\n",
        "    proba = float(model.predict_proba(input_data)[0, 1])\n",
        "    pred_label = int(model.predict(input_data)[0])\n",
        "\n",
        "    # 3. Ответ\n",
        "    return {\n",
        "        \"tcga_id\": tcga_id,\n",
        "        \"features\": features.tolist(),\n",
        "        \"prediction\": proba,\n",
        "        \"predicted_label\": pred_label\n",
        "    }"
      ],
      "metadata": {
        "id": "Hf4PXPmeh5ed"
      },
      "execution_count": 51,
      "outputs": []
    },
    {
      "cell_type": "code",
      "source": [
        "# =======================================\n",
        "# 6. Запуск сервера\n",
        "# =======================================\n",
        "print(\"\\n6. Запуск сервера\")\n",
        "if __name__ == \"__main__\":\n",
        "    nest_asyncio.apply()\n",
        "    public_url = ngrok.connect(8000).public_url\n",
        "    print(\"\\n🔥 Сервер доступен по URL:\", public_url)\n",
        "    print(\"📚 Документация API:\", f\"{public_url}/docs\\n\")\n",
        "    uvicorn.run(app, host=\"0.0.0.0\", port=8000)"
      ],
      "metadata": {
        "colab": {
          "base_uri": "https://localhost:8080/"
        },
        "id": "rzoaNkh_axB4",
        "outputId": "986684b2-bc17-46d8-befc-038d7259b5b5"
      },
      "execution_count": 52,
      "outputs": [
        {
          "output_type": "stream",
          "name": "stdout",
          "text": [
            "\n",
            "6. Запуск сервера\n",
            "\n",
            "🔥 Сервер доступен по URL: https://582a-34-73-147-116.ngrok-free.app\n",
            "📚 Документация API: https://582a-34-73-147-116.ngrok-free.app/docs\n",
            "\n"
          ]
        },
        {
          "output_type": "stream",
          "name": "stderr",
          "text": [
            "INFO:     Started server process [279]\n",
            "INFO:     Waiting for application startup.\n",
            "INFO:     Application startup complete.\n",
            "INFO:     Uvicorn running on http://0.0.0.0:8000 (Press CTRL+C to quit)\n",
            "WARNING:pyngrok.process.ngrok:t=2025-05-26T20:22:07+0000 lvl=warn msg=\"failed to check for update\" obj=updater err=\"Post \\\"https://update.equinox.io/check\\\": context deadline exceeded\"\n"
          ]
        },
        {
          "output_type": "stream",
          "name": "stdout",
          "text": [
            "Received features (first 5): [-0.8607495285461352, -0.7126339504146454, -0.31005299087674104, -0.6241783457236083, -0.31616839726294566]\n",
            "Total features received: 764\n",
            "Input array shape: (1, 764)\n",
            "INFO:     5.189.111.215:0 - \"POST /predict HTTP/1.1\" 200 OK\n"
          ]
        },
        {
          "output_type": "stream",
          "name": "stderr",
          "text": [
            "/usr/local/lib/python3.11/dist-packages/sklearn/utils/validation.py:2739: UserWarning: X does not have valid feature names, but GradientBoostingClassifier was fitted with feature names\n",
            "  warnings.warn(\n",
            "/usr/local/lib/python3.11/dist-packages/sklearn/utils/validation.py:2739: UserWarning: X does not have valid feature names, but GradientBoostingClassifier was fitted with feature names\n",
            "  warnings.warn(\n"
          ]
        },
        {
          "output_type": "stream",
          "name": "stdout",
          "text": [
            "INFO:     5.189.111.215:0 - \"POST /predict_by_id HTTP/1.1\" 200 OK\n"
          ]
        },
        {
          "output_type": "stream",
          "name": "stderr",
          "text": [
            "/usr/local/lib/python3.11/dist-packages/sklearn/utils/validation.py:2739: UserWarning: X does not have valid feature names, but GradientBoostingClassifier was fitted with feature names\n",
            "  warnings.warn(\n",
            "/usr/local/lib/python3.11/dist-packages/sklearn/utils/validation.py:2739: UserWarning: X does not have valid feature names, but GradientBoostingClassifier was fitted with feature names\n",
            "  warnings.warn(\n"
          ]
        },
        {
          "output_type": "stream",
          "name": "stdout",
          "text": [
            "Received features (first 5): [-0.8607495285461352, -0.7126339504146454, -0.31005299087674104, -0.6241783457236083, -0.31616839726294566]\n",
            "Total features received: 764\n",
            "Input array shape: (1, 764)\n",
            "INFO:     5.189.111.215:0 - \"POST /predict HTTP/1.1\" 200 OK\n"
          ]
        },
        {
          "output_type": "stream",
          "name": "stderr",
          "text": [
            "/usr/local/lib/python3.11/dist-packages/sklearn/utils/validation.py:2739: UserWarning: X does not have valid feature names, but GradientBoostingClassifier was fitted with feature names\n",
            "  warnings.warn(\n",
            "/usr/local/lib/python3.11/dist-packages/sklearn/utils/validation.py:2739: UserWarning: X does not have valid feature names, but GradientBoostingClassifier was fitted with feature names\n",
            "  warnings.warn(\n"
          ]
        },
        {
          "output_type": "stream",
          "name": "stdout",
          "text": [
            "Received features (first 5): [-0.8607495285461352, -0.7126339504146454, -0.31005299087674104, -0.6241783457236083, -0.31616839726294566]\n",
            "Total features received: 764\n",
            "Input array shape: (1, 764)\n",
            "INFO:     5.189.111.215:0 - \"POST /predict HTTP/1.1\" 200 OK\n"
          ]
        },
        {
          "output_type": "stream",
          "name": "stderr",
          "text": [
            "/usr/local/lib/python3.11/dist-packages/sklearn/utils/validation.py:2739: UserWarning: X does not have valid feature names, but GradientBoostingClassifier was fitted with feature names\n",
            "  warnings.warn(\n",
            "/usr/local/lib/python3.11/dist-packages/sklearn/utils/validation.py:2739: UserWarning: X does not have valid feature names, but GradientBoostingClassifier was fitted with feature names\n",
            "  warnings.warn(\n"
          ]
        },
        {
          "output_type": "stream",
          "name": "stdout",
          "text": [
            "Received features (first 5): [-0.8607495285461352, -0.7126339504146454, -0.31005299087674104, -0.6241783457236083, -0.31616839726294566]\n",
            "Total features received: 764\n",
            "Input array shape: (1, 764)\n",
            "INFO:     5.189.111.215:0 - \"POST /predict HTTP/1.1\" 200 OK\n"
          ]
        },
        {
          "output_type": "stream",
          "name": "stderr",
          "text": [
            "/usr/local/lib/python3.11/dist-packages/sklearn/utils/validation.py:2739: UserWarning: X does not have valid feature names, but GradientBoostingClassifier was fitted with feature names\n",
            "  warnings.warn(\n",
            "/usr/local/lib/python3.11/dist-packages/sklearn/utils/validation.py:2739: UserWarning: X does not have valid feature names, but GradientBoostingClassifier was fitted with feature names\n",
            "  warnings.warn(\n"
          ]
        },
        {
          "output_type": "stream",
          "name": "stdout",
          "text": [
            "INFO:     5.189.111.215:0 - \"POST /predict_by_id HTTP/1.1\" 200 OK\n"
          ]
        },
        {
          "output_type": "stream",
          "name": "stderr",
          "text": [
            "/usr/local/lib/python3.11/dist-packages/sklearn/utils/validation.py:2739: UserWarning: X does not have valid feature names, but GradientBoostingClassifier was fitted with feature names\n",
            "  warnings.warn(\n",
            "/usr/local/lib/python3.11/dist-packages/sklearn/utils/validation.py:2739: UserWarning: X does not have valid feature names, but GradientBoostingClassifier was fitted with feature names\n",
            "  warnings.warn(\n"
          ]
        },
        {
          "output_type": "stream",
          "name": "stdout",
          "text": [
            "INFO:     5.189.111.215:0 - \"POST /predict_by_tcga HTTP/1.1\" 200 OK\n"
          ]
        },
        {
          "output_type": "stream",
          "name": "stderr",
          "text": [
            "/usr/local/lib/python3.11/dist-packages/sklearn/utils/validation.py:2739: UserWarning: X does not have valid feature names, but GradientBoostingClassifier was fitted with feature names\n",
            "  warnings.warn(\n",
            "/usr/local/lib/python3.11/dist-packages/sklearn/utils/validation.py:2739: UserWarning: X does not have valid feature names, but GradientBoostingClassifier was fitted with feature names\n",
            "  warnings.warn(\n"
          ]
        },
        {
          "output_type": "stream",
          "name": "stdout",
          "text": [
            "Received features (first 5): [-0.8607495285461352, -0.7126339504146454, -0.31005299087674104, -0.6241783457236083, -0.31616839726294566]\n",
            "Total features received: 764\n",
            "Input array shape: (1, 764)\n",
            "INFO:     5.189.111.215:0 - \"POST /predict HTTP/1.1\" 200 OK\n"
          ]
        },
        {
          "output_type": "stream",
          "name": "stderr",
          "text": [
            "/usr/local/lib/python3.11/dist-packages/sklearn/utils/validation.py:2739: UserWarning: X does not have valid feature names, but GradientBoostingClassifier was fitted with feature names\n",
            "  warnings.warn(\n",
            "/usr/local/lib/python3.11/dist-packages/sklearn/utils/validation.py:2739: UserWarning: X does not have valid feature names, but GradientBoostingClassifier was fitted with feature names\n",
            "  warnings.warn(\n"
          ]
        },
        {
          "output_type": "stream",
          "name": "stdout",
          "text": [
            "INFO:     5.189.111.215:0 - \"POST /predict_by_id HTTP/1.1\" 200 OK\n"
          ]
        },
        {
          "output_type": "stream",
          "name": "stderr",
          "text": [
            "/usr/local/lib/python3.11/dist-packages/sklearn/utils/validation.py:2739: UserWarning: X does not have valid feature names, but GradientBoostingClassifier was fitted with feature names\n",
            "  warnings.warn(\n",
            "/usr/local/lib/python3.11/dist-packages/sklearn/utils/validation.py:2739: UserWarning: X does not have valid feature names, but GradientBoostingClassifier was fitted with feature names\n",
            "  warnings.warn(\n"
          ]
        },
        {
          "output_type": "stream",
          "name": "stdout",
          "text": [
            "INFO:     5.189.111.215:0 - \"POST /predict_by_tcga HTTP/1.1\" 200 OK\n"
          ]
        },
        {
          "output_type": "stream",
          "name": "stderr",
          "text": [
            "/usr/local/lib/python3.11/dist-packages/sklearn/utils/validation.py:2739: UserWarning: X does not have valid feature names, but GradientBoostingClassifier was fitted with feature names\n",
            "  warnings.warn(\n",
            "/usr/local/lib/python3.11/dist-packages/sklearn/utils/validation.py:2739: UserWarning: X does not have valid feature names, but GradientBoostingClassifier was fitted with feature names\n",
            "  warnings.warn(\n"
          ]
        },
        {
          "output_type": "stream",
          "name": "stdout",
          "text": [
            "Received features (first 5): [-0.8607495285461352, -0.7126339504146454, -0.31005299087674104, -0.6241783457236083, -0.31616839726294566]\n",
            "Total features received: 764\n",
            "Input array shape: (1, 764)\n",
            "INFO:     5.189.111.215:0 - \"POST /predict HTTP/1.1\" 200 OK\n"
          ]
        },
        {
          "output_type": "stream",
          "name": "stderr",
          "text": [
            "/usr/local/lib/python3.11/dist-packages/sklearn/utils/validation.py:2739: UserWarning: X does not have valid feature names, but GradientBoostingClassifier was fitted with feature names\n",
            "  warnings.warn(\n",
            "/usr/local/lib/python3.11/dist-packages/sklearn/utils/validation.py:2739: UserWarning: X does not have valid feature names, but GradientBoostingClassifier was fitted with feature names\n",
            "  warnings.warn(\n"
          ]
        },
        {
          "output_type": "stream",
          "name": "stdout",
          "text": [
            "INFO:     5.189.111.215:0 - \"POST /predict_by_id HTTP/1.1\" 200 OK\n"
          ]
        },
        {
          "output_type": "stream",
          "name": "stderr",
          "text": [
            "/usr/local/lib/python3.11/dist-packages/sklearn/utils/validation.py:2739: UserWarning: X does not have valid feature names, but GradientBoostingClassifier was fitted with feature names\n",
            "  warnings.warn(\n",
            "/usr/local/lib/python3.11/dist-packages/sklearn/utils/validation.py:2739: UserWarning: X does not have valid feature names, but GradientBoostingClassifier was fitted with feature names\n",
            "  warnings.warn(\n"
          ]
        },
        {
          "output_type": "stream",
          "name": "stdout",
          "text": [
            "INFO:     5.189.111.215:0 - \"POST /predict_by_tcga HTTP/1.1\" 200 OK\n"
          ]
        },
        {
          "output_type": "stream",
          "name": "stderr",
          "text": [
            "/usr/local/lib/python3.11/dist-packages/sklearn/utils/validation.py:2739: UserWarning: X does not have valid feature names, but GradientBoostingClassifier was fitted with feature names\n",
            "  warnings.warn(\n",
            "/usr/local/lib/python3.11/dist-packages/sklearn/utils/validation.py:2739: UserWarning: X does not have valid feature names, but GradientBoostingClassifier was fitted with feature names\n",
            "  warnings.warn(\n",
            "INFO:     Shutting down\n",
            "INFO:     Waiting for application shutdown.\n",
            "INFO:     Application shutdown complete.\n",
            "INFO:     Finished server process [279]\n"
          ]
        }
      ]
    }
  ]
}